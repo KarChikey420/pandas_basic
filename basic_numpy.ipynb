{
 "cells": [
  {
   "cell_type": "code",
   "execution_count": 1,
   "id": "97346fdf",
   "metadata": {},
   "outputs": [
    {
     "name": "stdout",
     "output_type": "stream",
     "text": [
      "Requirement already satisfied: numpy in c:\\users\\dell\\appdata\\local\\programs\\python\\python312\\lib\\site-packages (2.1.2)\n",
      "Note: you may need to restart the kernel to use updated packages.\n"
     ]
    }
   ],
   "source": [
    "%pip install numpy"
   ]
  },
  {
   "cell_type": "code",
   "execution_count": 2,
   "id": "6cdc464d",
   "metadata": {},
   "outputs": [],
   "source": [
    "import numpy as np\n"
   ]
  },
  {
   "cell_type": "code",
   "execution_count": 19,
   "id": "fbab52f4",
   "metadata": {},
   "outputs": [
    {
     "name": "stdout",
     "output_type": "stream",
     "text": [
      "[1 2 3 4 5]\n",
      "<class 'numpy.ndarray'>\n"
     ]
    }
   ],
   "source": [
    "arr=np.array([1,2,3,4,5])\n",
    "print(arr)\n",
    "print(type(arr))"
   ]
  },
  {
   "cell_type": "code",
   "execution_count": 3,
   "id": "7ae4b874",
   "metadata": {},
   "outputs": [
    {
     "name": "stdout",
     "output_type": "stream",
     "text": [
      "[1 2 3 4 5]\n"
     ]
    }
   ],
   "source": [
    "arr=np.array((1,2,3,4,5))\n",
    "print(arr)"
   ]
  },
  {
   "cell_type": "markdown",
   "id": "4d3b85a4",
   "metadata": {},
   "source": [
    "# Zero dimentional array"
   ]
  },
  {
   "cell_type": "code",
   "execution_count": 4,
   "id": "2708ccb1",
   "metadata": {},
   "outputs": [
    {
     "name": "stdout",
     "output_type": "stream",
     "text": [
      "[1 2 3 4 5]\n"
     ]
    }
   ],
   "source": [
    "arr1=np.array((45))\n",
    "print(arr)"
   ]
  },
  {
   "cell_type": "markdown",
   "id": "42d928d2",
   "metadata": {},
   "source": [
    "# One dimentional array"
   ]
  },
  {
   "cell_type": "code",
   "execution_count": 5,
   "id": "672dce21",
   "metadata": {},
   "outputs": [
    {
     "name": "stdout",
     "output_type": "stream",
     "text": [
      "[1 2 3 4]\n"
     ]
    }
   ],
   "source": [
    "arr4=np.array([1,2,3,4])\n",
    "print(arr4)"
   ]
  },
  {
   "cell_type": "markdown",
   "id": "ac5a5344",
   "metadata": {},
   "source": [
    "# Two dimentional array"
   ]
  },
  {
   "cell_type": "code",
   "execution_count": 7,
   "id": "1c943771",
   "metadata": {},
   "outputs": [
    {
     "name": "stdout",
     "output_type": "stream",
     "text": [
      "[[1 2 3 4]\n",
      " [2 4 6 8]]\n"
     ]
    }
   ],
   "source": [
    "arr2=np.array([[1,2,3,4],[2,4,6,8]])\n",
    "print(arr2)"
   ]
  },
  {
   "cell_type": "markdown",
   "id": "62875fbb",
   "metadata": {},
   "source": [
    "# Three dimentional array"
   ]
  },
  {
   "cell_type": "code",
   "execution_count": 8,
   "id": "0e2131d8",
   "metadata": {},
   "outputs": [
    {
     "name": "stdout",
     "output_type": "stream",
     "text": [
      "[1 2 3 4 5]\n"
     ]
    }
   ],
   "source": [
    "arr3=np.array([[[1,2,3,4,],[5,6,7,8],[9,10,11,12],[4,5,6,11]]])\n",
    "print(arr)"
   ]
  },
  {
   "cell_type": "code",
   "execution_count": 9,
   "id": "8156a9ca",
   "metadata": {},
   "outputs": [
    {
     "name": "stdout",
     "output_type": "stream",
     "text": [
      "0\n",
      "2\n",
      "3\n",
      "1\n"
     ]
    }
   ],
   "source": [
    "print(arr1.ndim)\n",
    "print(arr2.ndim)\n",
    "print(arr3.ndim)\n",
    "print(arr4.ndim)"
   ]
  },
  {
   "cell_type": "markdown",
   "id": "30c24273",
   "metadata": {},
   "source": [
    "# Check the indexing of array"
   ]
  },
  {
   "cell_type": "code",
   "execution_count": 10,
   "id": "ff0832f8",
   "metadata": {},
   "outputs": [
    {
     "name": "stdout",
     "output_type": "stream",
     "text": [
      "45\n",
      "1\n",
      "2\n",
      "1\n"
     ]
    }
   ],
   "source": [
    "print(arr1)  \n",
    "print(arr4[0])\n",
    "print(arr2[0,1]) \n",
    "print(arr3[0,0,0])"
   ]
  },
  {
   "cell_type": "markdown",
   "id": "6cb7a9e6",
   "metadata": {},
   "source": [
    "# array slicing "
   ]
  },
  {
   "cell_type": "code",
   "execution_count": 11,
   "id": "ee9954c1",
   "metadata": {},
   "outputs": [
    {
     "name": "stdout",
     "output_type": "stream",
     "text": [
      "[2 3 4]\n",
      "[2 4]\n",
      "[4 8]\n"
     ]
    }
   ],
   "source": [
    "print(arr4[1:4])\n",
    "print(arr4[1:4:2]) # start:end:step\n",
    "\n",
    "print(arr2[1,1:4:2])"
   ]
  },
  {
   "cell_type": "markdown",
   "id": "0496be19",
   "metadata": {},
   "source": [
    "# The use of copy and view "
   ]
  },
  {
   "cell_type": "code",
   "execution_count": 12,
   "id": "516b5101",
   "metadata": {},
   "outputs": [
    {
     "name": "stdout",
     "output_type": "stream",
     "text": [
      "[1 2 3 4 5]\n",
      "[2 2 3 4 5]\n"
     ]
    }
   ],
   "source": [
    "arr=np.array([1,2,3,4,5])\n",
    "copy_arr=arr.copy()\n",
    "copy_arr[0]=2\n",
    "print(arr)\n",
    "print(copy_arr)"
   ]
  },
  {
   "cell_type": "code",
   "execution_count": 13,
   "id": "dd91a5bd",
   "metadata": {},
   "outputs": [
    {
     "name": "stdout",
     "output_type": "stream",
     "text": [
      "[1 3 4 5 6]\n",
      "[1 3 4 5 6]\n"
     ]
    }
   ],
   "source": [
    "ar=np.array([2,3,4,5,6])\n",
    "view_arr=ar.view()\n",
    "view_arr[0]=1\n",
    "print(ar)\n",
    "print(view_arr)"
   ]
  },
  {
   "cell_type": "code",
   "execution_count": 14,
   "id": "f65db0ff",
   "metadata": {},
   "outputs": [
    {
     "name": "stdout",
     "output_type": "stream",
     "text": [
      "[1 4 6]\n"
     ]
    }
   ],
   "source": [
    "print(ar[::2])"
   ]
  },
  {
   "cell_type": "markdown",
   "id": "3fce4399",
   "metadata": {},
   "source": [
    "# Check the shape "
   ]
  },
  {
   "cell_type": "code",
   "execution_count": 19,
   "id": "ba369e32",
   "metadata": {},
   "outputs": [
    {
     "name": "stdout",
     "output_type": "stream",
     "text": [
      "(2, 4)\n"
     ]
    }
   ],
   "source": [
    "shape_arr = np.array([[1, 2, 3, 4], [5, 6, 7, 8]])\n",
    "print(shape_arr.shape)"
   ]
  },
  {
   "cell_type": "code",
   "execution_count": 20,
   "id": "48610c2a",
   "metadata": {},
   "outputs": [
    {
     "name": "stdout",
     "output_type": "stream",
     "text": [
      "[[[[[1 2 3 4 5]]]]]\n",
      "shape of array: (1, 1, 1, 1, 5)\n"
     ]
    }
   ],
   "source": [
    "check_arr=np.array([1,2,3,4,5],ndmin=5)\n",
    "print(check_arr)\n",
    "print(\"shape of array:\",check_arr.shape)"
   ]
  },
  {
   "cell_type": "markdown",
   "id": "ef298ae9",
   "metadata": {},
   "source": [
    "# Reshape the array"
   ]
  },
  {
   "cell_type": "code",
   "execution_count": 21,
   "id": "5d28bb4d",
   "metadata": {},
   "outputs": [
    {
     "name": "stdout",
     "output_type": "stream",
     "text": [
      "[[ 1  2  3]\n",
      " [ 4  5  6]\n",
      " [ 7  8  9]\n",
      " [10 11 12]]\n"
     ]
    }
   ],
   "source": [
    "reshape_arr=np.array([1,2,3,4,5,6,7,8,9,10,11,12])\n",
    "new_reshape_arr=reshape_arr.reshape(4,3)\n",
    "print(new_reshape_arr)"
   ]
  },
  {
   "cell_type": "markdown",
   "id": "c5be5be6",
   "metadata": {},
   "source": [
    "# looping in array"
   ]
  },
  {
   "cell_type": "code",
   "execution_count": null,
   "id": "07d9f4e4",
   "metadata": {},
   "outputs": [],
   "source": [
    "arr=np.array([1,2,3,4,5])\n",
    "for x in arr:\n",
    "    print(x)"
   ]
  },
  {
   "cell_type": "code",
   "execution_count": null,
   "id": "ff82c2e3",
   "metadata": {},
   "outputs": [],
   "source": [
    "arr1=np.array([[1,2,3,4],[5,6,7,8]])\n",
    "for x in arr1:\n",
    "    for y in x:\n",
    "        print(y)"
   ]
  },
  {
   "cell_type": "markdown",
   "id": "f721f799",
   "metadata": {},
   "source": [
    "# adding "
   ]
  },
  {
   "cell_type": "code",
   "execution_count": null,
   "id": "1500674d",
   "metadata": {},
   "outputs": [
    {
     "name": "stdout",
     "output_type": "stream",
     "text": [
      "[[ 2  4  6  8 11]\n",
      " [ 3  5  7  9 11]]\n"
     ]
    }
   ],
   "source": [
    "x=np.array([[1,2,3,4,5],\n",
    "            [1,2,3,4,5]])\n",
    "y=np.array([[1,2,3,4,6],\n",
    "            [2,3,4,5,6]])\n",
    "z=x+y\n",
    "print(z)"
   ]
  },
  {
   "cell_type": "markdown",
   "id": "696e30fa",
   "metadata": {},
   "source": [
    "# subtraction"
   ]
  },
  {
   "cell_type": "code",
   "execution_count": 31,
   "id": "aa67d9d4",
   "metadata": {},
   "outputs": [
    {
     "name": "stdout",
     "output_type": "stream",
     "text": [
      "[[0 0 0 0 1]\n",
      " [1 1 1 1 1]]\n"
     ]
    }
   ],
   "source": [
    "x=np.array([[1,2,3,4,5],\n",
    "            [1,2,3,4,5]])\n",
    "y=np.array([[1,2,3,4,6],\n",
    "            [2,3,4,5,6]])\n",
    "z=y-x\n",
    "print(z)"
   ]
  },
  {
   "cell_type": "markdown",
   "id": "776725ce",
   "metadata": {},
   "source": [
    "# multiply element wise "
   ]
  },
  {
   "cell_type": "code",
   "execution_count": null,
   "id": "909d4298",
   "metadata": {},
   "outputs": [
    {
     "name": "stdout",
     "output_type": "stream",
     "text": [
      "[[    1     4    27   256 15625]\n",
      " [    1     8    81  1024 15625]]\n"
     ]
    }
   ],
   "source": [
    "x=np.array([[1,2,3,4,5],\n",
    "            [1,2,3,4,5]])\n",
    "y=np.array([[1,2,3,4,6],\n",
    "            [2,3,4,5,6]])\n",
    "z=x**y\n",
    "#z=x*y\n",
    "print(z)"
   ]
  },
  {
   "cell_type": "markdown",
   "id": "c6b4747f",
   "metadata": {},
   "source": [
    "# actual multiply"
   ]
  },
  {
   "cell_type": "code",
   "execution_count": 40,
   "id": "52afc8a1",
   "metadata": {},
   "outputs": [
    {
     "name": "stdout",
     "output_type": "stream",
     "text": [
      "[[ 95 110]\n",
      " [ 95 110]]\n"
     ]
    }
   ],
   "source": [
    "x=np.array([[1,2,3,4,5],\n",
    "            [1,2,3,4,5]])\n",
    "y=np.array([[1,2],\n",
    "            [3,4],\n",
    "            [5,6],\n",
    "            [7,8],\n",
    "            [9,10]])\n",
    "z = x @ y\n",
    "print(z)"
   ]
  },
  {
   "cell_type": "markdown",
   "id": "7fe04dd8",
   "metadata": {},
   "source": [
    "# devide "
   ]
  },
  {
   "cell_type": "code",
   "execution_count": null,
   "id": "012325f7",
   "metadata": {},
   "outputs": [
    {
     "name": "stdout",
     "output_type": "stream",
     "text": [
      "[[10 10 10]\n",
      " [10 10 10]\n",
      " [10 10 10]]\n"
     ]
    }
   ],
   "source": [
    "x=np.array([[10,20,30],\n",
    "            [40,50,60],\n",
    "            [70,90,100]])\n",
    "y=np.array([[1,2,3],\n",
    "            [4,5,6],\n",
    "            [7,9,10]])\n",
    "#z=x/y\n",
    "z=x//y\n",
    "print(z)"
   ]
  },
  {
   "cell_type": "markdown",
   "id": "fa11f8de",
   "metadata": {},
   "source": [
    "# Fetch ans with condition"
   ]
  },
  {
   "cell_type": "code",
   "execution_count": null,
   "id": "271ce212",
   "metadata": {},
   "outputs": [],
   "source": []
  }
 ],
 "metadata": {
  "kernelspec": {
   "display_name": "Python 3",
   "language": "python",
   "name": "python3"
  },
  "language_info": {
   "codemirror_mode": {
    "name": "ipython",
    "version": 3
   },
   "file_extension": ".py",
   "mimetype": "text/x-python",
   "name": "python",
   "nbconvert_exporter": "python",
   "pygments_lexer": "ipython3",
   "version": "3.12.7"
  }
 },
 "nbformat": 4,
 "nbformat_minor": 5
}
