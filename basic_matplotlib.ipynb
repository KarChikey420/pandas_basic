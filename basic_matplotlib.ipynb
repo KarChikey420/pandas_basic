{
 "cells": [
  {
   "cell_type": "code",
   "execution_count": null,
   "id": "add31518",
   "metadata": {},
   "outputs": [],
   "source": [
    "%pip install pandas\n",
    "%pip install matplotlib"
   ]
  },
  {
   "cell_type": "code",
   "execution_count": 4,
   "id": "e9572659",
   "metadata": {},
   "outputs": [
    {
     "name": "stderr",
     "output_type": "stream",
     "text": [
      "Matplotlib is building the font cache; this may take a moment.\n"
     ]
    }
   ],
   "source": [
    "import pandas as pd \n",
    "import matplotlib.pyplot as plt "
   ]
  },
  {
   "cell_type": "code",
   "execution_count": 5,
   "id": "11702ac3",
   "metadata": {},
   "outputs": [],
   "source": [
    "df=pd.read_csv(\"crocodile_dataset.csv\")"
   ]
  },
  {
   "cell_type": "code",
   "execution_count": 6,
   "id": "13b6aa8c",
   "metadata": {},
   "outputs": [
    {
     "data": {
      "text/html": [
       "<div>\n",
       "<style scoped>\n",
       "    .dataframe tbody tr th:only-of-type {\n",
       "        vertical-align: middle;\n",
       "    }\n",
       "\n",
       "    .dataframe tbody tr th {\n",
       "        vertical-align: top;\n",
       "    }\n",
       "\n",
       "    .dataframe thead th {\n",
       "        text-align: right;\n",
       "    }\n",
       "</style>\n",
       "<table border=\"1\" class=\"dataframe\">\n",
       "  <thead>\n",
       "    <tr style=\"text-align: right;\">\n",
       "      <th></th>\n",
       "      <th>Observation ID</th>\n",
       "      <th>Common Name</th>\n",
       "      <th>Scientific Name</th>\n",
       "      <th>Family</th>\n",
       "      <th>Genus</th>\n",
       "      <th>Observed Length (m)</th>\n",
       "      <th>Observed Weight (kg)</th>\n",
       "      <th>Age Class</th>\n",
       "      <th>Sex</th>\n",
       "      <th>Date of Observation</th>\n",
       "      <th>Country/Region</th>\n",
       "      <th>Habitat Type</th>\n",
       "      <th>Conservation Status</th>\n",
       "      <th>Observer Name</th>\n",
       "      <th>Notes</th>\n",
       "    </tr>\n",
       "  </thead>\n",
       "  <tbody>\n",
       "    <tr>\n",
       "      <th>0</th>\n",
       "      <td>1</td>\n",
       "      <td>Morelet's Crocodile</td>\n",
       "      <td>Crocodylus moreletii</td>\n",
       "      <td>Crocodylidae</td>\n",
       "      <td>Crocodylus</td>\n",
       "      <td>1.90</td>\n",
       "      <td>62.0</td>\n",
       "      <td>Adult</td>\n",
       "      <td>Male</td>\n",
       "      <td>31-03-2018</td>\n",
       "      <td>Belize</td>\n",
       "      <td>Swamps</td>\n",
       "      <td>Least Concern</td>\n",
       "      <td>Allison Hill</td>\n",
       "      <td>Cause bill scientist nation opportunity.</td>\n",
       "    </tr>\n",
       "    <tr>\n",
       "      <th>1</th>\n",
       "      <td>2</td>\n",
       "      <td>American Crocodile</td>\n",
       "      <td>Crocodylus acutus</td>\n",
       "      <td>Crocodylidae</td>\n",
       "      <td>Crocodylus</td>\n",
       "      <td>4.09</td>\n",
       "      <td>334.5</td>\n",
       "      <td>Adult</td>\n",
       "      <td>Male</td>\n",
       "      <td>28-01-2015</td>\n",
       "      <td>Venezuela</td>\n",
       "      <td>Mangroves</td>\n",
       "      <td>Vulnerable</td>\n",
       "      <td>Brandon Hall</td>\n",
       "      <td>Ago current practice nation determine operatio...</td>\n",
       "    </tr>\n",
       "    <tr>\n",
       "      <th>2</th>\n",
       "      <td>3</td>\n",
       "      <td>Orinoco Crocodile</td>\n",
       "      <td>Crocodylus intermedius</td>\n",
       "      <td>Crocodylidae</td>\n",
       "      <td>Crocodylus</td>\n",
       "      <td>1.08</td>\n",
       "      <td>118.2</td>\n",
       "      <td>Juvenile</td>\n",
       "      <td>Unknown</td>\n",
       "      <td>07-12-2010</td>\n",
       "      <td>Venezuela</td>\n",
       "      <td>Flooded Savannas</td>\n",
       "      <td>Critically Endangered</td>\n",
       "      <td>Melissa Peterson</td>\n",
       "      <td>Democratic shake bill here grow gas enough ana...</td>\n",
       "    </tr>\n",
       "    <tr>\n",
       "      <th>3</th>\n",
       "      <td>4</td>\n",
       "      <td>Morelet's Crocodile</td>\n",
       "      <td>Crocodylus moreletii</td>\n",
       "      <td>Crocodylidae</td>\n",
       "      <td>Crocodylus</td>\n",
       "      <td>2.42</td>\n",
       "      <td>90.4</td>\n",
       "      <td>Adult</td>\n",
       "      <td>Male</td>\n",
       "      <td>01-11-2019</td>\n",
       "      <td>Mexico</td>\n",
       "      <td>Rivers</td>\n",
       "      <td>Least Concern</td>\n",
       "      <td>Edward Fuller</td>\n",
       "      <td>Officer relate animal direction eye bag do.</td>\n",
       "    </tr>\n",
       "    <tr>\n",
       "      <th>4</th>\n",
       "      <td>5</td>\n",
       "      <td>Mugger Crocodile (Marsh Crocodile)</td>\n",
       "      <td>Crocodylus palustris</td>\n",
       "      <td>Crocodylidae</td>\n",
       "      <td>Crocodylus</td>\n",
       "      <td>3.75</td>\n",
       "      <td>269.4</td>\n",
       "      <td>Adult</td>\n",
       "      <td>Unknown</td>\n",
       "      <td>15-07-2019</td>\n",
       "      <td>India</td>\n",
       "      <td>Rivers</td>\n",
       "      <td>Vulnerable</td>\n",
       "      <td>Donald Reid</td>\n",
       "      <td>Class great prove reduce raise author play mov...</td>\n",
       "    </tr>\n",
       "  </tbody>\n",
       "</table>\n",
       "</div>"
      ],
      "text/plain": [
       "   Observation ID                         Common Name         Scientific Name  \\\n",
       "0               1                 Morelet's Crocodile    Crocodylus moreletii   \n",
       "1               2                  American Crocodile       Crocodylus acutus   \n",
       "2               3                   Orinoco Crocodile  Crocodylus intermedius   \n",
       "3               4                 Morelet's Crocodile    Crocodylus moreletii   \n",
       "4               5  Mugger Crocodile (Marsh Crocodile)    Crocodylus palustris   \n",
       "\n",
       "         Family       Genus  Observed Length (m)  Observed Weight (kg)  \\\n",
       "0  Crocodylidae  Crocodylus                 1.90                  62.0   \n",
       "1  Crocodylidae  Crocodylus                 4.09                 334.5   \n",
       "2  Crocodylidae  Crocodylus                 1.08                 118.2   \n",
       "3  Crocodylidae  Crocodylus                 2.42                  90.4   \n",
       "4  Crocodylidae  Crocodylus                 3.75                 269.4   \n",
       "\n",
       "  Age Class      Sex Date of Observation Country/Region      Habitat Type  \\\n",
       "0     Adult     Male          31-03-2018         Belize            Swamps   \n",
       "1     Adult     Male          28-01-2015      Venezuela         Mangroves   \n",
       "2  Juvenile  Unknown          07-12-2010      Venezuela  Flooded Savannas   \n",
       "3     Adult     Male          01-11-2019         Mexico            Rivers   \n",
       "4     Adult  Unknown          15-07-2019          India            Rivers   \n",
       "\n",
       "     Conservation Status     Observer Name  \\\n",
       "0          Least Concern      Allison Hill   \n",
       "1             Vulnerable      Brandon Hall   \n",
       "2  Critically Endangered  Melissa Peterson   \n",
       "3          Least Concern     Edward Fuller   \n",
       "4             Vulnerable       Donald Reid   \n",
       "\n",
       "                                               Notes  \n",
       "0           Cause bill scientist nation opportunity.  \n",
       "1  Ago current practice nation determine operatio...  \n",
       "2  Democratic shake bill here grow gas enough ana...  \n",
       "3        Officer relate animal direction eye bag do.  \n",
       "4  Class great prove reduce raise author play mov...  "
      ]
     },
     "execution_count": 6,
     "metadata": {},
     "output_type": "execute_result"
    }
   ],
   "source": [
    "df.head()"
   ]
  },
  {
   "cell_type": "code",
   "execution_count": 30,
   "id": "2a989d5f",
   "metadata": {},
   "outputs": [
    {
     "name": "stdout",
     "output_type": "stream",
     "text": [
      "<bound method IndexOpsMixin.tolist of Index([], dtype='object')>\n"
     ]
    }
   ],
   "source": [
    "df_dupli=df.columns[df.columns.duplicated()].to_list\n",
    "print(df_dupli)"
   ]
  },
  {
   "cell_type": "code",
   "execution_count": 23,
   "id": "ac8e654c",
   "metadata": {},
   "outputs": [
    {
     "data": {
      "text/plain": [
       "Observation ID          0\n",
       "Common Name             0\n",
       "Scientific Name         0\n",
       "Family                  0\n",
       "Genus                   0\n",
       "Observed Length (m)     0\n",
       "Observed Weight (kg)    0\n",
       "Age Class               0\n",
       "Sex                     0\n",
       "Date of Observation     0\n",
       "Country/Region          0\n",
       "Habitat Type            0\n",
       "Conservation Status     0\n",
       "Observer Name           0\n",
       "Notes                   0\n",
       "dtype: int64"
      ]
     },
     "execution_count": 23,
     "metadata": {},
     "output_type": "execute_result"
    }
   ],
   "source": [
    "df.isna().sum()"
   ]
  },
  {
   "cell_type": "code",
   "execution_count": 33,
   "id": "4b0fc604",
   "metadata": {},
   "outputs": [
    {
     "data": {
      "text/plain": [
       "0      False\n",
       "1      False\n",
       "2      False\n",
       "3       True\n",
       "4      False\n",
       "       ...  \n",
       "995     True\n",
       "996     True\n",
       "997     True\n",
       "998     True\n",
       "999     True\n",
       "Name: Common Name, Length: 1000, dtype: bool"
      ]
     },
     "execution_count": 33,
     "metadata": {},
     "output_type": "execute_result"
    }
   ],
   "source": [
    "df['Common Name'].duplicated()"
   ]
  },
  {
   "cell_type": "code",
   "execution_count": 34,
   "id": "deb1e8a7",
   "metadata": {},
   "outputs": [
    {
     "data": {
      "text/plain": [
       "<function matplotlib.pyplot.show(close=None, block=None)>"
      ]
     },
     "execution_count": 34,
     "metadata": {},
     "output_type": "execute_result"
    },
    {
     "data": {
      "image/png": "[encoded data removed]",
      "text/plain": [
       "<Figure size 640x480 with 1 Axes>"
      ]
     },
     "metadata": {},
     "output_type": "display_data"
    }
   ],
   "source": [
    "plt.scatter(df[\"Common Name\"],df[\"Observed Weight (kg)\"],color=\"red\")\n",
    "plt.title(\"Common Name vs Observed Weight\")\n",
    "plt.xlabel(\"Common Name\")\n",
    "plt.ylabel(\"Observed Weight\")\n",
    "plt.show"
   ]
  }
 ],
 "metadata": {
  "kernelspec": {
   "display_name": "Python 3",
   "language": "python",
   "name": "python3"
  },
  "language_info": {
   "codemirror_mode": {
    "name": "ipython",
    "version": 3
   },
   "file_extension": ".py",
   "mimetype": "text/x-python",
   "name": "python",
   "nbconvert_exporter": "python",
   "pygments_lexer": "ipython3",
   "version": "3.12.7"
  }
 },
 "nbformat": 4,
 "nbformat_minor": 5
}
